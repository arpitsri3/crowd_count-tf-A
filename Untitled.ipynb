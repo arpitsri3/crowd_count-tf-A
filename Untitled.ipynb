{
 "cells": [
  {
   "cell_type": "code",
   "execution_count": 1,
   "metadata": {},
   "outputs": [],
   "source": [
    "import tensorflow as tf\n",
    "import numpy as np\n",
    "import cv2\n",
    "from IPython.display import clear_output, Image, display, HTML\n"
   ]
  },
  {
   "cell_type": "code",
   "execution_count": 2,
   "metadata": {},
   "outputs": [
    {
     "name": "stdout",
     "output_type": "stream",
     "text": [
      "(684, 1024)\n"
     ]
    }
   ],
   "source": [
    "img = cv2.imread('IMG_2.jpg', 0)\n",
    "print(img.shape)\n",
    "img = np.array(img)\n",
    "img = (img - 127.5) / 128"
   ]
  },
  {
   "cell_type": "code",
   "execution_count": 3,
   "metadata": {},
   "outputs": [],
   "source": [
    "#Visualize the graph\n",
    "  \n",
    "def strip_consts(graph_def, max_const_size=32):\n",
    "    \"\"\"Strip large constant values from graph_def.\"\"\"\n",
    "    strip_def = tf.GraphDef()\n",
    "    for n0 in graph_def.node:\n",
    "        n = strip_def.node.add() \n",
    "        n.MergeFrom(n0)\n",
    "        if n.op == 'Const':\n",
    "            tensor = n.attr['value'].tensor\n",
    "            size = len(tensor.tensor_content)\n",
    "            if size > max_const_size:\n",
    "                tensor.tensor_content = \"<stripped %d bytes>\"%size\n",
    "    return strip_def\n",
    "\n",
    "def show_graph(graph_def, max_const_size=32):\n",
    "    \"\"\"Visualize TensorFlow graph.\"\"\"\n",
    "    if hasattr(graph_def, 'as_graph_def'):\n",
    "        graph_def = graph_def.as_graph_def()\n",
    "    strip_def = strip_consts(graph_def, max_const_size=max_const_size)\n",
    "    code = \"\"\"\n",
    "        <script>\n",
    "          function load() {{\n",
    "            document.getElementById(\"{id}\").pbtxt = {data};\n",
    "          }}\n",
    "        </script>\n",
    "        <link rel=\"import\" href=\"https://tensorboard.appspot.com/tf-graph-basic.build.html\" onload=load()>\n",
    "        <div style=\"height:600px\">\n",
    "          <tf-graph-basic id=\"{id}\"></tf-graph-basic>\n",
    "        </div>\n",
    "    \"\"\".format(data=repr(str(strip_def)), id='graph'+str(np.random.rand()))\n",
    "\n",
    "    iframe = \"\"\"\n",
    "        <iframe seamless style=\"width:1200px;height:620px;border:0\" srcdoc=\"{}\"></iframe>\n",
    "    \"\"\".format(code.replace('\"', '&quot;'))\n",
    "    display(HTML(iframe))"
   ]
  },
  {
   "cell_type": "code",
   "execution_count": 9,
   "metadata": {},
   "outputs": [],
   "source": [
    "def conv2d(x, w):\n",
    "    return tf.nn.conv2d(x, w, strides = [1, 1, 1, 1], padding = 'SAME')\n",
    "\n",
    "def max_pool_2x2(x):\n",
    "    return tf.nn.max_pool(x, ksize = [1, 2, 2, 1], strides = [1, 2, 2, 1], padding = 'SAME')\n",
    "\n",
    "def inf(x):\n",
    "    # s net ###########################################################\n",
    "    w_conv1_1 = tf.get_variable('w_conv1_1', [5, 5, 1, 24])\n",
    "    b_conv1_1 = tf.get_variable('b_conv1_1', [24])\n",
    "    h_conv1_1 = tf.nn.relu(self.conv2d(x, w_conv1_1) + b_conv1_1)\n",
    "\n",
    "    h_pool1_1 = self.max_pool_2x2(h_conv1_1)\n",
    "\n",
    "    w_conv2_1 = tf.get_variable('w_conv2_1', [3, 3, 24, 48])\n",
    "    b_conv2_1 = tf.get_variable('b_conv2_1', [48])        \n",
    "    h_conv2_1 = tf.nn.relu(self.conv2d(h_pool1_1, w_conv2_1) + b_conv2_1)\n",
    "\n",
    "    h_pool2_1 = self.max_pool_2x2(h_conv2_1)\n",
    "    w_conv3_1 = tf.get_variable('w_conv3_1', [3, 3, 48, 24])\n",
    "    b_conv3_1 = tf.get_variable('b_conv3_1', [24])\n",
    "    h_conv3_1 = tf.nn.relu(self.conv2d(h_pool2_1, w_conv3_1) + b_conv3_1)\n",
    "    w_conv4_1 = tf.get_variable('w_conv4_1', [3, 3, 24, 12])\n",
    "    b_conv4_1 = tf.get_variable('b_conv4_1', [12])\n",
    "    h_conv4_1 = tf.nn.relu(self.conv2d(h_conv3_1, w_conv4_1) + b_conv4_1)\n",
    "        \n",
    "    # m net ###########################################################\n",
    "    w_conv1_2 = tf.get_variable('w_conv1_2', [7, 7, 1, 20])\n",
    "    b_conv1_2 = tf.get_variable('b_conv1_2', [20])\n",
    "    h_conv1_2 = tf.nn.relu(self.conv2d(x, w_conv1_2) + b_conv1_2)\n",
    "\n",
    "    h_pool1_2 = self.max_pool_2x2(h_conv1_2)\n",
    "    w_conv2_2 = tf.get_variable('w_conv2_2', [5, 5, 20, 40])\n",
    "    b_conv2_2 = tf.get_variable('b_conv2_2', [40])\n",
    "    h_conv2_2 = tf.nn.relu(self.conv2d(h_pool1_2, w_conv2_2) + b_conv2_2)\n",
    "\n",
    "    h_pool2_2 = self.max_pool_2x2(h_conv2_2)\n",
    "    w_conv3_2 = tf.get_variable('w_conv3_2', [5, 5, 40, 20])\n",
    "    b_conv3_2 = tf.get_variable('b_conv3_2', [20])\n",
    "    h_conv3_2 = tf.nn.relu(self.conv2d(h_pool2_2, w_conv3_2) + b_conv3_2)\n",
    "\n",
    "    w_conv4_2 = tf.get_variable('w_conv4_2', [5, 5, 20, 10])\n",
    "    b_conv4_2 = tf.get_variable('b_conv4_2', [10])\n",
    "    h_conv4_2 = tf.nn.relu(self.conv2d(h_conv3_2, w_conv4_2) + b_conv4_2)\n",
    "        \n",
    "     # l net ###########################################################\n",
    "    w_conv1_3 = tf.get_variable('w_conv1_3', [9, 9, 1, 16])\n",
    "    b_conv1_3 = tf.get_variable('b_conv1_3', [16])\n",
    "    h_conv1_3 = tf.nn.relu(self.conv2d(x, w_conv1_3) + b_conv1_3)\n",
    "\n",
    "    h_pool1_3 = self.max_pool_2x2(h_conv1_3)\n",
    "\n",
    "    w_conv2_3 = tf.get_variable('w_conv2_3', [7, 7, 16, 32])\n",
    "    b_conv2_3 = tf.get_variable('b_conv2_3', [32])\n",
    "    h_conv2_3 = tf.nn.relu(self.conv2d(h_pool1_3, w_conv2_3) + b_conv2_3)\n",
    "\n",
    "    h_pool2_3 = self.max_pool_2x2(h_conv2_3)\n",
    "\n",
    "    w_conv3_3 = tf.get_variable('w_conv3_3', [7, 7, 32, 16])\n",
    "    b_conv3_3 = tf.get_variable('b_conv3_3', [16])\n",
    "    h_conv3_3 = tf.nn.relu(self.conv2d(h_pool2_3, w_conv3_3) + b_conv3_3)\n",
    "\n",
    "    w_conv4_3 = tf.get_variable('w_conv4_3', [7, 7, 16, 8])\n",
    "    b_conv4_3 = tf.get_variable('b_conv4_3', [8])\n",
    "    h_conv4_3 = tf.nn.relu(self.conv2d(h_conv3_3, w_conv4_3) + b_conv4_3)\n",
    "        \n",
    "    # merge ###########################################################\n",
    "    h_conv4_merge = tf.concat([h_conv4_1, h_conv4_2, h_conv4_3], 3)\n",
    "        \n",
    "    w_conv5 = tf.get_variable('w_conv5', [1, 1, 30, 1])\n",
    "    b_conv5 = tf.get_variable('b_conv5', [1])\n",
    "    h_conv5 = self.conv2d(h_conv4_merge, w_conv5) + b_conv5\n",
    "        \n",
    "    y_pre = h_conv5\n",
    "\n",
    "    return y_pre"
   ]
  },
  {
   "cell_type": "code",
   "execution_count": 13,
   "metadata": {},
   "outputs": [
    {
     "name": "stdout",
     "output_type": "stream",
     "text": [
      "INFO:tensorflow:Restoring parameters from ./model.ckpt\n",
      "Tensor(\"add_12:0\", shape=(?, ?, ?, 1), dtype=float32)\n",
      "(1, 684, 1024, 1) float64\n",
      "(1, 684, 1024, 1) float32\n"
     ]
    }
   ],
   "source": [
    "from tensorflow.python.tools.inspect_checkpoint import print_tensors_in_checkpoint_file\n",
    "with tf.Session() as sess:\n",
    "    new_saver = tf.train.import_meta_graph('model.ckpt.meta')\n",
    "    new_saver.restore(sess, tf.train.latest_checkpoint('./'))\n",
    "    #latest_ckp = tf.train.latest_checkpoint('./')\n",
    "    #print_tensors_in_checkpoint_file(latest_ckp, all_tensors=True, tensor_name='')\n",
    "    graph = tf.get_default_graph()\n",
    "    #print(tf.get_collection())\n",
    "    #show_graph(graph.as_graph_def())\n",
    "    op_to_restore = graph.get_tensor_by_name(\"add_12:0\")\n",
    "    print(op_to_restore)\n",
    "    x_in = np.reshape(img, (1, img.shape[0], img.shape[1], 1))\n",
    "    print(x_in.shape, x_in.dtype)\n",
    "    x_in = np.float32(x_in)\n",
    "    print(x_in.shape, x_in.dtype)\n",
    "    y_pred = []\n",
    "    x = graph.get_tensor_by_name('Placeholder:0')#tf.placeholder(tf.float32, [None, None, None, 1])#tf.get_collection(\"Placeholder_1\")[0] #graph.get_variable(\"x\", shape = [None, None, None, 1])#t\n",
    "    y_pred = sess.run(op_to_restore, feed_dict={x: x_in})"
   ]
  },
  {
   "cell_type": "code",
   "execution_count": 15,
   "metadata": {},
   "outputs": [
    {
     "name": "stdout",
     "output_type": "stream",
     "text": [
      "1246.12\n"
     ]
    }
   ],
   "source": [
    "print(np.sum(y_pred))"
   ]
  },
  {
   "cell_type": "code",
   "execution_count": null,
   "metadata": {},
   "outputs": [],
   "source": [
    "#sess.graph.get_operations()"
   ]
  }
 ],
 "metadata": {
  "kernelspec": {
   "display_name": "Python [default]",
   "language": "python",
   "name": "python3"
  },
  "language_info": {
   "codemirror_mode": {
    "name": "ipython",
    "version": 3
   },
   "file_extension": ".py",
   "mimetype": "text/x-python",
   "name": "python",
   "nbconvert_exporter": "python",
   "pygments_lexer": "ipython3",
   "version": "3.5.2"
  },
  "widgets": {
   "state": {},
   "version": "1.1.2"
  }
 },
 "nbformat": 4,
 "nbformat_minor": 2
}
