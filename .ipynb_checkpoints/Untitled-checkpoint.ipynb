{
 "cells": [
  {
   "cell_type": "code",
   "execution_count": 1,
   "metadata": {},
   "outputs": [
    {
     "ename": "ImportError",
     "evalue": "libgtk-x11-2.0.so.0: cannot open shared object file: No such file or directory",
     "output_type": "error",
     "traceback": [
      "\u001b[0;31m---------------------------------------------------------------------------\u001b[0m",
      "\u001b[0;31mImportError\u001b[0m                               Traceback (most recent call last)",
      "\u001b[0;32m<ipython-input-1-2a0be0e524dd>\u001b[0m in \u001b[0;36m<module>\u001b[0;34m()\u001b[0m\n\u001b[1;32m      1\u001b[0m \u001b[0;32mimport\u001b[0m \u001b[0mtensorflow\u001b[0m \u001b[0;32mas\u001b[0m \u001b[0mtf\u001b[0m\u001b[0;34m\u001b[0m\u001b[0m\n\u001b[1;32m      2\u001b[0m \u001b[0;32mimport\u001b[0m \u001b[0mnumpy\u001b[0m \u001b[0;32mas\u001b[0m \u001b[0mnp\u001b[0m\u001b[0;34m\u001b[0m\u001b[0m\n\u001b[0;32m----> 3\u001b[0;31m \u001b[0;32mimport\u001b[0m \u001b[0mcv2\u001b[0m\u001b[0;34m\u001b[0m\u001b[0m\n\u001b[0m\u001b[1;32m      4\u001b[0m \u001b[0;32mfrom\u001b[0m \u001b[0mIPython\u001b[0m\u001b[0;34m.\u001b[0m\u001b[0mdisplay\u001b[0m \u001b[0;32mimport\u001b[0m \u001b[0mclear_output\u001b[0m\u001b[0;34m,\u001b[0m \u001b[0mImage\u001b[0m\u001b[0;34m,\u001b[0m \u001b[0mdisplay\u001b[0m\u001b[0;34m,\u001b[0m \u001b[0mHTML\u001b[0m\u001b[0;34m\u001b[0m\u001b[0m\n",
      "\u001b[0;31mImportError\u001b[0m: libgtk-x11-2.0.so.0: cannot open shared object file: No such file or directory"
     ]
    }
   ],
   "source": [
    "import tensorflow as tf\n",
    "import numpy as np\n",
    "import cv2\n",
    "from IPython.display import clear_output, Image, display, HTML\n"
   ]
  },
  {
   "cell_type": "code",
   "execution_count": null,
   "metadata": {
    "collapsed": true
   },
   "outputs": [],
   "source": [
    "with tf.Session() as sess:\n",
    "  model_count = tf.train.import_meta_graph('model.ckpt.meta')\n",
    "  model_count.restore(sess, tf.train.latest_checkpoint('./'))\n",
    "  graph = tf.get_default_graph()"
   ]
  },
  {
   "cell_type": "code",
   "execution_count": null,
   "metadata": {
    "collapsed": true
   },
   "outputs": [],
   "source": [
    "#Visualize the graph\n",
    "  \n",
    "  def strip_consts(graph_def, max_const_size=32):\n",
    "    \"\"\"Strip large constant values from graph_def.\"\"\"\n",
    "    strip_def = tf.GraphDef()\n",
    "    for n0 in graph_def.node:\n",
    "        n = strip_def.node.add() \n",
    "        n.MergeFrom(n0)\n",
    "        if n.op == 'Const':\n",
    "            tensor = n.attr['value'].tensor\n",
    "            size = len(tensor.tensor_content)\n",
    "            if size > max_const_size:\n",
    "                tensor.tensor_content = \"<stripped %d bytes>\"%size\n",
    "    return strip_def\n",
    "\t\n",
    "\tdef show_graph(graph_def, max_const_size=32):\n",
    "    \"\"\"Visualize TensorFlow graph.\"\"\"\n",
    "\t\tif hasattr(graph_def, 'as_graph_def'):\n",
    "\t\t\tgraph_def = graph_def.as_graph_def()\n",
    "\t\tstrip_def = strip_consts(graph_def, max_const_size=max_const_size)\n",
    "\t\tcode = \"\"\"\n",
    "\t\t\t<script>\n",
    "\t\t\t  function load() {{\n",
    "\t\t\t\tdocument.getElementById(\"{id}\").pbtxt = {data};\n",
    "\t\t\t  }}\n",
    "\t\t\t</script>\n",
    "\t\t\t<link rel=\"import\" href=\"https://tensorboard.appspot.com/tf-graph-basic.build.html\" onload=load()>\n",
    "\t\t\t<div style=\"height:600px\">\n",
    "\t\t\t  <tf-graph-basic id=\"{id}\"></tf-graph-basic>\n",
    "\t\t\t</div>\n",
    "\t\t\"\"\".format(data=repr(str(strip_def)), id='graph'+str(np.random.rand()))\n",
    "\n",
    "\t\tiframe = \"\"\"\n",
    "\t\t\t<iframe seamless style=\"width:1200px;height:620px;border:0\" srcdoc=\"{}\"></iframe>\n",
    "\t\t\"\"\".format(code.replace('\"', '&quot;'))\n",
    "\t\tdisplay(HTML(iframe))\n",
    "\t\t\n",
    "\tshow_graph(graph.as_graph_def())\n",
    "\n",
    "\timg = cv2.imread('IMG_1.jpg', 0)\n",
    "\tprint(img.shape)\n",
    "\timg = numpy.array(img)\n",
    "\timg = (img - 127.5) / 128\n",
    "    \n",
    "\top_to_restore = graph.get_tensor_by_name(\"h_conv5:0\")\n",
    "\t\n",
    "\tx_in = np.reshape(img, (1, img.shape[0], img.shape[1], 1))\n",
    "    y_p_den = sess.run(op_to_restore, feed_dict = {self.x: x_in})"
   ]
  }
 ],
 "metadata": {
  "kernelspec": {
   "display_name": "Python 3",
   "language": "python",
   "name": "python3"
  },
  "language_info": {
   "codemirror_mode": {
    "name": "ipython",
    "version": 3
   },
   "file_extension": ".py",
   "mimetype": "text/x-python",
   "name": "python",
   "nbconvert_exporter": "python",
   "pygments_lexer": "ipython3",
   "version": "3.5.2"
  }
 },
 "nbformat": 4,
 "nbformat_minor": 2
}
